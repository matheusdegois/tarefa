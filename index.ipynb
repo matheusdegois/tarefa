{
 "cells": [
  {
   "cell_type": "code",
   "execution_count": null,
   "metadata": {},
   "outputs": [],
   "source": [
    "<!DOCTYPE html>\n",
    "<html lang=\"pt-BR\">\n",
    "<head>\n",
    "    <meta charset=\"UTF-8\">\n",
    "    <meta name=\"viewport\" content=\"width=device-width, initial-scale=1.0\">\n",
    "    <title>SPA Exemplo</title>\n",
    "    <link rel=\"stylesheet\" href=\"styles.css\">\n",
    "</head>\n",
    "<body>\n",
    "    <nav>\n",
    "        <a href=\"#home\" class=\"nav-link\" data-section=\"home\">Home</a>\n",
    "        <a href=\"#sobre\" class=\"nav-link\" data-section=\"sobre\">Sobre</a>\n",
    "        <a href=\"#contato\" class=\"nav-link\" data-section=\"contato\">Contato</a>\n",
    "    </nav>\n",
    "    \n",
    "    <div id=\"content\">\n",
    "        <div id=\"home\" class=\"section\">\n",
    "            <h1>Bem-vindo ao Meu Portfólio</h1>\n",
    "            <p>Essa é a página inicial.</p>\n",
    "        </div>\n",
    "        <div id=\"sobre\" class=\"section\" style=\"display:none;\">\n",
    "            <h1>Sobre Mim</h1>\n",
    "            <p>Informações sobre mim.</p>\n",
    "        </div>\n",
    "        <div id=\"contato\" class=\"section\" style=\"display:none;\">\n",
    "            <h1>Contato</h1>\n",
    "            <p>Formulário de contato.</p>\n",
    "        </div>\n",
    "    </div>\n",
    "\n",
    "    <script src=\"script.js\"></script>\n",
    "</body>\n",
    "</html>"
   ]
  }
 ],
 "metadata": {
  "language_info": {
   "name": "python"
  }
 },
 "nbformat": 4,
 "nbformat_minor": 2
}
